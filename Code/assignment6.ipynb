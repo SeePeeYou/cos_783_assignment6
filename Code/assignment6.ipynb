{
 "cells": [
  {
   "cell_type": "code",
   "execution_count": 5,
   "metadata": {},
   "outputs": [],
   "source": [
    "import numpy as np\n",
    "import os\n",
    "os.environ['KMP_DUPLICATE_LIB_OK']='True'\n",
    "import spacy\n",
    "from spacy.lang.en import English\n",
    "import random\n",
    "import pandas as pd\n",
    "from tqdm import tqdm \n",
    "from collections import Counter"
   ]
  },
  {
   "cell_type": "code",
   "execution_count": 6,
   "metadata": {},
   "outputs": [],
   "source": [
    "df = pd.read_excel(\"BetaData.xlsx\")"
   ]
  },
  {
   "cell_type": "code",
   "execution_count": 7,
   "metadata": {},
   "outputs": [],
   "source": [
    "ALPHA = 0.1\n",
    "BETA = 0.1\n",
    "NUM_TOPICS = 20\n",
    "sp = English()\n",
    "\n",
    "np.random.seed(42)\n",
    "random.seed(42)"
   ]
  },
  {
   "cell_type": "code",
   "execution_count": 8,
   "metadata": {},
   "outputs": [],
   "source": [
    "def generate_frequencies(data, max_docs = 10000):\n",
    "    freqs = Counter()\n",
    "    all_stopwords = sp.Defaults.stop_words\n",
    "\n",
    "def get_vocab(freqs, freq_threshold=3):\n",
    "    pass\n",
    "def tokenize_dataset(data, vocab, max_docs= 10000):\n",
    "    pass"
   ]
  },
  {
   "cell_type": "code",
   "execution_count": 9,
   "metadata": {},
   "outputs": [
    {
     "name": "stdout",
     "output_type": "stream",
     "text": [
      "{'were', 'towards', 'whoever', \"n't\", 'thence', 'elsewhere', 'never', 'anyhow', 'alone', 'afterwards', 'down', 'again', 'them', 'wherein', 'him', 'than', 'hundred', \"'s\", 'can', 'none', 'became', 'doing', 'last', 'nine', 'another', 'yet', 'done', 'whether', 'toward', 'until', 'there', 'next', 're', 'across', 'everyone', 'anywhere', 'itself', 'their', 'within', 'former', 'nobody', 'might', 'becoming', 'keep', 'his', 'rather', 'its', \"'re\", 'thereupon', 'ca', 'perhaps', 'either', 'top', 'i', 'whole', 'who', 'between', 'two', 'take', 'the', 'up', 'upon', 'although', 'without', 'using', 'someone', 'cannot', 'yourselves', 'in', 'after', 'whatever', 'together', 'somewhere', 'give', 'latterly', 'ever', 'otherwise', 'had', 'becomes', 'your', 'that', 'mostly', 'neither', 'throughout', '‘ve', 'will', 'back', 'also', 'eleven', 'is', 'once', 'most', 'onto', 'am', 'get', 'among', 'through', 'some', 'by', 'nothing', 'nowhere', 'else', 'ten', 'indeed', 'empty', 'twenty', 'here', 'hers', 'whom', 'my', \"'ll\", 'sometimes', 'during', 'under', 'first', 'why', 'moreover', 'whereas', 'name', 'and', 'become', 'or', 'others', 'eight', 'all', 'n’t', 'see', 'less', \"'ve\", 'those', 'more', 'been', 'they', 'was', 'part', 'wherever', 'he', 'please', 'really', 'very', 'yourself', 'three', 'almost', 'something', 'n‘t', 'about', 'per', 'should', 'whose', 'thereby', 'call', 'nevertheless', 'formerly', '’m', 'bottom', 'whereby', 'as', 'off', 'other', 'often', 'did', 'are', 'full', 'front', 'hereupon', 'thus', 'sixty', 'this', 'whither', 'her', 'besides', 'a', 'though', 'amount', 'except', 'just', 'mine', 'yours', 'we', 'out', 'move', '’re', 'many', 'whenever', 'himself', 'noone', 'meanwhile', 'at', 'both', 'six', 'with', 'side', 'latter', 'whereafter', 'have', 'third', 'further', 'below', 'somehow', 'but', 'do', 'ourselves', 'not', 'seemed', 'whereupon', 'on', 'where', 'nor', 'hereby', 'such', 'along', 'due', 'several', 'forty', 'while', 'myself', 'least', '’s', 'against', 'these', 'put', 'various', '’ve', 'few', 'so', 'now', 'could', 'us', 'anyone', 'go', 'you', 'well', 'even', 'namely', 'everything', 'if', '‘m', 'which', 'what', 'serious', 'every', 'say', 'fifteen', 'herein', 'therein', '’ll', 'enough', 'me', 'already', 'sometime', 'too', 'beside', 'seem', 'may', 'ours', 'each', 'thru', 'how', 'make', 'over', 'around', 'being', 'has', \"'m\", 'same', 'via', 'thereafter', 'since', '‘s', 'always', 'of', 'she', 'herself', 'behind', 'into', 'an', 'hence', 'anyway', 'then', 'own', 'show', 'however', 'five', 'no', 'above', 'seeming', 'anything', 'beforehand', 'because', 'before', 'only', 'it', 'amongst', 'themselves', 'seems', 'any', 'four', 'used', '‘ll', '‘d', 'our', 'must', 'fifty', 'much', 'one', 'to', 'for', 'quite', 'everywhere', 'when', 'beyond', 'twelve', '‘re', 'does', 'whence', 'regarding', 'unless', 'therefore', 'from', 'made', 'still', 'would', 'hereafter', 'be', '’d', \"'d\"}\n"
     ]
    }
   ],
   "source": [
    "print(sp.Defaults.stop_words)"
   ]
  }
 ],
 "metadata": {
  "kernelspec": {
   "display_name": "Python 3",
   "language": "python",
   "name": "python3"
  },
  "language_info": {
   "codemirror_mode": {
    "name": "ipython",
    "version": 3
   },
   "file_extension": ".py",
   "mimetype": "text/x-python",
   "name": "python",
   "nbconvert_exporter": "python",
   "pygments_lexer": "ipython3",
   "version": "3.11.7"
  }
 },
 "nbformat": 4,
 "nbformat_minor": 2
}
